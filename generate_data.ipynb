{
 "cells": [
  {
   "cell_type": "code",
   "execution_count": 5,
   "id": "ea821f52-efca-4e2a-9f55-1a506bb8da3c",
   "metadata": {},
   "outputs": [
    {
     "name": "stdout",
     "output_type": "stream",
     "text": [
      "Collecting faker\n",
      "  Downloading faker-37.4.2-py3-none-any.whl.metadata (15 kB)\n",
      "Requirement already satisfied: tzdata in c:\\users\\cyber\\anaconda3\\lib\\site-packages (from faker) (2023.3)\n",
      "Downloading faker-37.4.2-py3-none-any.whl (1.9 MB)\n",
      "   ---------------------------------------- 0.0/1.9 MB ? eta -:--:--\n",
      "    --------------------------------------- 0.0/1.9 MB 640.0 kB/s eta 0:00:03\n",
      "   ------ --------------------------------- 0.3/1.9 MB 3.9 MB/s eta 0:00:01\n",
      "   ----------------- ---------------------- 0.9/1.9 MB 6.8 MB/s eta 0:00:01\n",
      "   ------------------------- -------------- 1.2/1.9 MB 7.8 MB/s eta 0:00:01\n",
      "   ------------------------------------ --- 1.8/1.9 MB 8.1 MB/s eta 0:00:01\n",
      "   ---------------------------------------  1.9/1.9 MB 7.2 MB/s eta 0:00:01\n",
      "   ---------------------------------------- 1.9/1.9 MB 6.9 MB/s eta 0:00:00\n",
      "Installing collected packages: faker\n",
      "Successfully installed faker-37.4.2\n"
     ]
    }
   ],
   "source": [
    "!pip install faker\n",
    "\n"
   ]
  },
  {
   "cell_type": "code",
   "execution_count": 9,
   "id": "0d77f251-e88c-4fc3-99d7-8250ba715a58",
   "metadata": {},
   "outputs": [
    {
     "name": "stdout",
     "output_type": "stream",
     "text": [
      "✅ Large dataset generated and saved in /data\n"
     ]
    },
    {
     "name": "stderr",
     "output_type": "stream",
     "text": [
      "C:\\Users\\Cyber\\AppData\\Local\\Temp\\ipykernel_24920\\957186870.py:44: FutureWarning: 'H' is deprecated and will be removed in a future version, please use 'h' instead.\n",
      "  'date': pd.date_range(start='2024-01-01', periods=5000, freq='H'),\n"
     ]
    }
   ],
   "source": [
    "# generate_data\n",
    "\n",
    "import pandas as pd\n",
    "import numpy as np\n",
    "from faker import Faker\n",
    "import random\n",
    "\n",
    "fake = Faker()\n",
    "np.random.seed(42)\n",
    "\n",
    "# 1. Influencers Dataset (200 rows)\n",
    "influencer_ids = range(1, 201)\n",
    "influencers = pd.DataFrame({\n",
    "    'id': influencer_ids,\n",
    "    'name': [fake.name() for _ in influencer_ids],\n",
    "    'category': np.random.choice(['Fitness', 'Health', 'Lifestyle', 'Nutrition'], 200),\n",
    "    'gender': np.random.choice(['Male', 'Female', 'Other'], 200),\n",
    "    'follower_count': np.random.randint(5000, 1000000, 200),\n",
    "    'platform': np.random.choice(['Instagram', 'YouTube', 'Twitter'], 200)\n",
    "})\n",
    "\n",
    "# 2. Posts Dataset (2000 posts)\n",
    "posts = pd.DataFrame({\n",
    "    'influencer_id': np.random.choice(influencer_ids, 2000),\n",
    "    'platform': np.random.choice(['Instagram', 'YouTube', 'Twitter'], 2000),\n",
    "    'date': pd.date_range(start='2024-01-01', periods=2000, freq='D'),\n",
    "    'url': [fake.url() for _ in range(2000)],\n",
    "    'caption': [fake.sentence() for _ in range(2000)],\n",
    "    'reach': np.random.randint(1000, 100000, 2000),\n",
    "    'likes': np.random.randint(50, 20000, 2000),\n",
    "    'comments': np.random.randint(5, 1000, 2000)\n",
    "})\n",
    "\n",
    "# 3. Tracking Data (5000 records)\n",
    "tracking_data = pd.DataFrame({\n",
    "    'source': np.random.choice(['Instagram', 'YouTube', 'Twitter'], 5000),\n",
    "    'campaign': np.random.choice([\n",
    "        'MB Pro Campaign', 'HKVitals Glow Drive', 'Gritzo Kids Push',\n",
    "        'FitZone Summer Blast', 'HK Protein Launch'\n",
    "    ], 5000),\n",
    "    'influencer_id': np.random.choice(influencer_ids, 5000),\n",
    "    'user_id': [fake.uuid4() for _ in range(5000)],\n",
    "    'product': np.random.choice(['Whey Protein', 'Multivitamin', 'Omega-3', 'Creatine', 'Kids Drink'], 5000),\n",
    "    'date': pd.date_range(start='2024-01-01', periods=5000, freq='H'),\n",
    "    'orders': np.random.randint(1, 7, 5000),\n",
    "    'revenue': np.random.uniform(200, 3000, 5000).round(2)\n",
    "})\n",
    "\n",
    "# 4. Payouts Dataset\n",
    "payouts = pd.DataFrame({\n",
    "    'influencer_id': influencer_ids,\n",
    "    'basis': np.random.choice(['post', 'order'], 200),\n",
    "    'rate': np.random.randint(500, 7000, 200),\n",
    "    'orders': np.random.randint(10, 100, 200),\n",
    "})\n",
    "payouts['total_payout'] = payouts.apply(\n",
    "    lambda x: x['rate'] * x['orders'] if x['basis'] == 'order' else x['rate'], axis=1)\n",
    "\n",
    "# Save CSV files\n",
    "influencers.to_csv('data/influencers.csv', index=False)\n",
    "posts.to_csv('data/posts.csv', index=False)\n",
    "tracking_data.to_csv('data/tracking_data.csv', index=False)\n",
    "payouts.to_csv('data/payouts.csv', index=False)\n",
    "\n",
    "print(\"✅ Large dataset generated and saved in /data\")\n"
   ]
  },
  {
   "cell_type": "code",
   "execution_count": null,
   "id": "afaf4525-3a36-4023-8f4c-89ff754a1b80",
   "metadata": {},
   "outputs": [],
   "source": []
  }
 ],
 "metadata": {
  "kernelspec": {
   "display_name": "Python 3 (ipykernel)",
   "language": "python",
   "name": "python3"
  },
  "language_info": {
   "codemirror_mode": {
    "name": "ipython",
    "version": 3
   },
   "file_extension": ".py",
   "mimetype": "text/x-python",
   "name": "python",
   "nbconvert_exporter": "python",
   "pygments_lexer": "ipython3",
   "version": "3.12.4"
  }
 },
 "nbformat": 4,
 "nbformat_minor": 5
}
