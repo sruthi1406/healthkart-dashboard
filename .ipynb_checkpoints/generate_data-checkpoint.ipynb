{
 "cells": [
  {
   "cell_type": "code",
   "execution_count": 5,
   "id": "ea821f52-efca-4e2a-9f55-1a506bb8da3c",
   "metadata": {},
   "outputs": [
    {
     "name": "stdout",
     "output_type": "stream",
     "text": [
      "Collecting faker\n",
      "  Downloading faker-37.4.2-py3-none-any.whl.metadata (15 kB)\n",
      "Requirement already satisfied: tzdata in c:\\users\\cyber\\anaconda3\\lib\\site-packages (from faker) (2023.3)\n",
      "Downloading faker-37.4.2-py3-none-any.whl (1.9 MB)\n",
      "   ---------------------------------------- 0.0/1.9 MB ? eta -:--:--\n",
      "    --------------------------------------- 0.0/1.9 MB 640.0 kB/s eta 0:00:03\n",
      "   ------ --------------------------------- 0.3/1.9 MB 3.9 MB/s eta 0:00:01\n",
      "   ----------------- ---------------------- 0.9/1.9 MB 6.8 MB/s eta 0:00:01\n",
      "   ------------------------- -------------- 1.2/1.9 MB 7.8 MB/s eta 0:00:01\n",
      "   ------------------------------------ --- 1.8/1.9 MB 8.1 MB/s eta 0:00:01\n",
      "   ---------------------------------------  1.9/1.9 MB 7.2 MB/s eta 0:00:01\n",
      "   ---------------------------------------- 1.9/1.9 MB 6.9 MB/s eta 0:00:00\n",
      "Installing collected packages: faker\n",
      "Successfully installed faker-37.4.2\n"
     ]
    }
   ],
   "source": [
    "!pip install faker\n",
    "\n"
   ]
  },
  {
   "cell_type": "code",
   "execution_count": 7,
   "id": "0d77f251-e88c-4fc3-99d7-8250ba715a58",
   "metadata": {},
   "outputs": [
    {
     "name": "stdout",
     "output_type": "stream",
     "text": [
      "✅ All datasets saved as CSV files!\n"
     ]
    }
   ],
   "source": [
    "import pandas as pd\n",
    "import numpy as np\n",
    "from faker import Faker\n",
    "import random\n",
    "\n",
    "# Setup\n",
    "fake = Faker()\n",
    "np.random.seed(42)\n",
    "\n",
    "# ====================== 1. INFLUENCERS ======================\n",
    "influencers = pd.DataFrame({\n",
    "    'id': range(1, 21),\n",
    "    'name': [fake.name() for _ in range(20)],\n",
    "    'category': np.random.choice(['Fitness', 'Health', 'Lifestyle', 'Nutrition'], 20),\n",
    "    'gender': np.random.choice(['Male', 'Female'], 20),\n",
    "    'follower_count': np.random.randint(10000, 500000, 20),\n",
    "    'platform': np.random.choice(['Instagram', 'YouTube', 'Twitter'], 20)\n",
    "})\n",
    "\n",
    "# ====================== 2. POSTS ======================\n",
    "posts = pd.DataFrame({\n",
    "    'influencer_id': np.random.choice(influencers['id'], 100),\n",
    "    'platform': np.random.choice(['Instagram', 'YouTube', 'Twitter'], 100),\n",
    "    'date': pd.date_range('2024-01-01', periods=100).to_list(),\n",
    "    'url': [fake.url() for _ in range(100)],\n",
    "    'caption': [fake.sentence() for _ in range(100)],\n",
    "    'reach': np.random.randint(5000, 100000, 100),\n",
    "    'likes': np.random.randint(200, 15000, 100),\n",
    "    'comments': np.random.randint(10, 500, 100)\n",
    "})\n",
    "\n",
    "# ====================== 3. TRACKING DATA ======================\n",
    "tracking_data = pd.DataFrame({\n",
    "    'source': np.random.choice(['Instagram', 'YouTube', 'Twitter'], 200),\n",
    "    'campaign': np.random.choice(['MB Pro Campaign', 'HKVitals Glow Drive', 'Gritzo Kids Push'], 200),\n",
    "    'influencer_id': np.random.choice(influencers['id'], 200),\n",
    "    'user_id': [fake.uuid4() for _ in range(200)],\n",
    "    'product': np.random.choice(['Whey Protein', 'Multivitamin', 'Omega-3'], 200),\n",
    "    'date': pd.date_range('2024-01-01', periods=200),\n",
    "    'orders': np.random.randint(1, 5, 200),  # ✅ This line is important\n",
    "    'revenue': np.random.uniform(100.0, 1500.0, 200).round(2)\n",
    "})\n",
    "\n",
    "\n",
    "# ====================== 4. PAYOUTS ======================\n",
    "payouts = pd.DataFrame({\n",
    "    'influencer_id': influencers['id'],\n",
    "    'basis': np.random.choice(['post', 'order'], 20),\n",
    "    'rate': np.random.randint(500, 3000, 20),\n",
    "    'orders': np.random.randint(5, 50, 20)\n",
    "})\n",
    "payouts['total_payout'] = payouts.apply(\n",
    "    lambda x: x['rate'] * x['orders'] if x['basis'] == 'order' else x['rate'], axis=1)\n",
    "\n",
    "# ====================== SAVE TO CSV ======================\n",
    "influencers.to_csv('influencers.csv', index=False)\n",
    "posts.to_csv('posts.csv', index=False)\n",
    "tracking_data.to_csv('tracking_data.csv', index=False)\n",
    "payouts.to_csv('payouts.csv', index=False)\n",
    "\n",
    "print(\"✅ All datasets saved as CSV files!\")\n"
   ]
  },
  {
   "cell_type": "code",
   "execution_count": null,
   "id": "461ff085-078b-496d-b88d-9e8a14fdc40b",
   "metadata": {},
   "outputs": [],
   "source": []
  }
 ],
 "metadata": {
  "kernelspec": {
   "display_name": "Python 3 (ipykernel)",
   "language": "python",
   "name": "python3"
  },
  "language_info": {
   "codemirror_mode": {
    "name": "ipython",
    "version": 3
   },
   "file_extension": ".py",
   "mimetype": "text/x-python",
   "name": "python",
   "nbconvert_exporter": "python",
   "pygments_lexer": "ipython3",
   "version": "3.12.4"
  }
 },
 "nbformat": 4,
 "nbformat_minor": 5
}
